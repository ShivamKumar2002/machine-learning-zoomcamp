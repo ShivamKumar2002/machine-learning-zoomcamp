{
 "cells": [
  {
   "cell_type": "code",
   "execution_count": 27,
   "metadata": {},
   "outputs": [],
   "source": [
    "import numpy as np\n",
    "import pandas as pd"
   ]
  },
  {
   "cell_type": "code",
   "execution_count": 12,
   "metadata": {},
   "outputs": [
    {
     "name": "stdout",
     "output_type": "stream",
     "text": [
      "Pandas Version 2.2.3\n"
     ]
    }
   ],
   "source": [
    "print(\"Pandas Version\", pd.__version__)"
   ]
  },
  {
   "cell_type": "code",
   "execution_count": 2,
   "metadata": {},
   "outputs": [],
   "source": [
    "df = pd.read_csv('laptops.csv')"
   ]
  },
  {
   "cell_type": "code",
   "execution_count": 11,
   "metadata": {},
   "outputs": [
    {
     "name": "stdout",
     "output_type": "stream",
     "text": [
      "Record Count: 2160\n"
     ]
    }
   ],
   "source": [
    "print(\"Record Count:\", df.shape[0])"
   ]
  },
  {
   "cell_type": "code",
   "execution_count": 13,
   "metadata": {},
   "outputs": [
    {
     "name": "stdout",
     "output_type": "stream",
     "text": [
      "Laptop Brands Count: 27\n"
     ]
    }
   ],
   "source": [
    "print(\"Laptop Brands Count:\", df[\"Brand\"].nunique())"
   ]
  },
  {
   "cell_type": "code",
   "execution_count": 14,
   "metadata": {},
   "outputs": [
    {
     "name": "stdout",
     "output_type": "stream",
     "text": [
      "Number of columns with missing values: 3\n"
     ]
    }
   ],
   "source": [
    "print(\"Number of columns with missing values:\", df.isna().any().sum())"
   ]
  },
  {
   "cell_type": "code",
   "execution_count": 19,
   "metadata": {},
   "outputs": [
    {
     "name": "stdout",
     "output_type": "stream",
     "text": [
      "Maximum final price of dell notebooks: 3936.0\n"
     ]
    }
   ],
   "source": [
    "print(\"Maximum final price of dell notebooks:\", df[df[\"Brand\"] == \"Dell\"][\"Final Price\"].max())"
   ]
  },
  {
   "cell_type": "code",
   "execution_count": 23,
   "metadata": {},
   "outputs": [
    {
     "name": "stdout",
     "output_type": "stream",
     "text": [
      "Median value of Screen: 15.6\n",
      "Most frequent value of Screen: 15.6\n",
      "Median value of Screen after fillna: 15.6\n"
     ]
    }
   ],
   "source": [
    "screen_median = df[\"Screen\"].median()\n",
    "print(\"Median value of Screen:\", screen_median)\n",
    "\n",
    "screen_mode = df[\"Screen\"].mode()[0]\n",
    "print(\"Most frequent value of Screen:\", screen_mode)\n",
    "\n",
    "df = df.fillna({\"Screen\": screen_mode})\n",
    "\n",
    "print(\"Median value of Screen after fillna:\", df[\"Screen\"].median())\n"
   ]
  },
  {
   "cell_type": "code",
   "execution_count": 28,
   "metadata": {},
   "outputs": [
    {
     "name": "stdout",
     "output_type": "stream",
     "text": [
      "Result: 91.2998806299555\n"
     ]
    }
   ],
   "source": [
    "innjoo_laptops = df[df[\"Brand\"] == \"Innjoo\"]\n",
    "innjoo_laptops = innjoo_laptops[[\"RAM\", \"Storage\", \"Screen\"]]\n",
    "X = innjoo_laptops.values\n",
    "\n",
    "XTX = X.T.dot(X)\n",
    "\n",
    "XTX_inv = np.linalg.inv(XTX)\n",
    "\n",
    "y = [1100, 1300, 800, 900, 1000, 1100]\n",
    "\n",
    "w = XTX_inv.dot(X.T).dot(y)\n",
    "\n",
    "print(\"Result:\", w.sum())\n"
   ]
  }
 ],
 "metadata": {
  "kernelspec": {
   "display_name": ".venv",
   "language": "python",
   "name": "python3"
  },
  "language_info": {
   "codemirror_mode": {
    "name": "ipython",
    "version": 3
   },
   "file_extension": ".py",
   "mimetype": "text/x-python",
   "name": "python",
   "nbconvert_exporter": "python",
   "pygments_lexer": "ipython3",
   "version": "3.10.14"
  }
 },
 "nbformat": 4,
 "nbformat_minor": 2
}
